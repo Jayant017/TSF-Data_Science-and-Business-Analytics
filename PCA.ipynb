{
 "cells": [
  {
   "cell_type": "code",
   "execution_count": 1,
   "metadata": {},
   "outputs": [],
   "source": [
    "import pandas as pd\n",
    "import numpy as np"
   ]
  },
  {
   "cell_type": "code",
   "execution_count": 2,
   "metadata": {},
   "outputs": [],
   "source": [
    "from sklearn.decomposition import PCA"
   ]
  },
  {
   "cell_type": "code",
   "execution_count": 24,
   "metadata": {},
   "outputs": [],
   "source": [
    "#from sklearn import preprocessing\n",
    "from sklearn.preprocessing import StandardScaler\n",
    "import matplotlib.pyplot as plt\n",
    "%matplotlib inline\n",
    "import random as rd"
   ]
  },
  {
   "cell_type": "code",
   "execution_count": 7,
   "metadata": {},
   "outputs": [],
   "source": [
    "genes = ['gene' + str(i) for i in range (1,101)]"
   ]
  },
  {
   "cell_type": "code",
   "execution_count": 9,
   "metadata": {},
   "outputs": [],
   "source": [
    "wt = ['wt' + str(i) for i in range (1,6)]\n",
    "ko = ['ko' + str(i) for i in range (1,6)]"
   ]
  },
  {
   "cell_type": "code",
   "execution_count": 10,
   "metadata": {},
   "outputs": [],
   "source": [
    "df = pd.DataFrame( index= genes, columns = [*wt,*ko])"
   ]
  },
  {
   "cell_type": "markdown",
   "metadata": {},
   "source": [
    "#### Randomly generating data"
   ]
  },
  {
   "cell_type": "code",
   "execution_count": 18,
   "metadata": {},
   "outputs": [],
   "source": [
    "for gene in df.index:\n",
    "    df.loc[gene,'wt1':'wt5'] = np.random.poisson(lam = rd.randrange(10,1000), size = 5)\n",
    "    df.loc[gene,'ko1':'ko5'] = np.random.poisson(lam = rd.randrange(10,1000), size = 5)"
   ]
  },
  {
   "cell_type": "code",
   "execution_count": 19,
   "metadata": {},
   "outputs": [
    {
     "data": {
      "text/html": [
       "<div>\n",
       "<style scoped>\n",
       "    .dataframe tbody tr th:only-of-type {\n",
       "        vertical-align: middle;\n",
       "    }\n",
       "\n",
       "    .dataframe tbody tr th {\n",
       "        vertical-align: top;\n",
       "    }\n",
       "\n",
       "    .dataframe thead th {\n",
       "        text-align: right;\n",
       "    }\n",
       "</style>\n",
       "<table border=\"1\" class=\"dataframe\">\n",
       "  <thead>\n",
       "    <tr style=\"text-align: right;\">\n",
       "      <th></th>\n",
       "      <th>wt1</th>\n",
       "      <th>wt2</th>\n",
       "      <th>wt3</th>\n",
       "      <th>wt4</th>\n",
       "      <th>wt5</th>\n",
       "      <th>ko1</th>\n",
       "      <th>ko2</th>\n",
       "      <th>ko3</th>\n",
       "      <th>ko4</th>\n",
       "      <th>ko5</th>\n",
       "    </tr>\n",
       "  </thead>\n",
       "  <tbody>\n",
       "    <tr>\n",
       "      <th>gene1</th>\n",
       "      <td>700</td>\n",
       "      <td>731</td>\n",
       "      <td>699</td>\n",
       "      <td>733</td>\n",
       "      <td>667</td>\n",
       "      <td>238</td>\n",
       "      <td>242</td>\n",
       "      <td>193</td>\n",
       "      <td>250</td>\n",
       "      <td>236</td>\n",
       "    </tr>\n",
       "    <tr>\n",
       "      <th>gene2</th>\n",
       "      <td>180</td>\n",
       "      <td>183</td>\n",
       "      <td>156</td>\n",
       "      <td>213</td>\n",
       "      <td>160</td>\n",
       "      <td>423</td>\n",
       "      <td>454</td>\n",
       "      <td>458</td>\n",
       "      <td>483</td>\n",
       "      <td>437</td>\n",
       "    </tr>\n",
       "    <tr>\n",
       "      <th>gene3</th>\n",
       "      <td>648</td>\n",
       "      <td>677</td>\n",
       "      <td>637</td>\n",
       "      <td>658</td>\n",
       "      <td>631</td>\n",
       "      <td>834</td>\n",
       "      <td>832</td>\n",
       "      <td>767</td>\n",
       "      <td>831</td>\n",
       "      <td>828</td>\n",
       "    </tr>\n",
       "    <tr>\n",
       "      <th>gene4</th>\n",
       "      <td>109</td>\n",
       "      <td>98</td>\n",
       "      <td>88</td>\n",
       "      <td>97</td>\n",
       "      <td>96</td>\n",
       "      <td>575</td>\n",
       "      <td>611</td>\n",
       "      <td>585</td>\n",
       "      <td>562</td>\n",
       "      <td>620</td>\n",
       "    </tr>\n",
       "    <tr>\n",
       "      <th>gene5</th>\n",
       "      <td>347</td>\n",
       "      <td>315</td>\n",
       "      <td>303</td>\n",
       "      <td>328</td>\n",
       "      <td>324</td>\n",
       "      <td>375</td>\n",
       "      <td>382</td>\n",
       "      <td>371</td>\n",
       "      <td>407</td>\n",
       "      <td>404</td>\n",
       "    </tr>\n",
       "  </tbody>\n",
       "</table>\n",
       "</div>"
      ],
      "text/plain": [
       "       wt1  wt2  wt3  wt4  wt5  ko1  ko2  ko3  ko4  ko5\n",
       "gene1  700  731  699  733  667  238  242  193  250  236\n",
       "gene2  180  183  156  213  160  423  454  458  483  437\n",
       "gene3  648  677  637  658  631  834  832  767  831  828\n",
       "gene4  109   98   88   97   96  575  611  585  562  620\n",
       "gene5  347  315  303  328  324  375  382  371  407  404"
      ]
     },
     "execution_count": 19,
     "metadata": {},
     "output_type": "execute_result"
    }
   ],
   "source": [
    "df.head()"
   ]
  },
  {
   "cell_type": "code",
   "execution_count": 21,
   "metadata": {
    "scrolled": true
   },
   "outputs": [
    {
     "data": {
      "text/plain": [
       "(100, 10)"
      ]
     },
     "execution_count": 21,
     "metadata": {},
     "output_type": "execute_result"
    }
   ],
   "source": [
    "df.shape"
   ]
  },
  {
   "cell_type": "code",
   "execution_count": 26,
   "metadata": {},
   "outputs": [],
   "source": [
    "scaled_data = StandardScaler().fit_transform(df.T)"
   ]
  },
  {
   "cell_type": "code",
   "execution_count": 27,
   "metadata": {},
   "outputs": [],
   "source": [
    "pca = PCA()"
   ]
  },
  {
   "cell_type": "code",
   "execution_count": 28,
   "metadata": {},
   "outputs": [
    {
     "data": {
      "text/plain": [
       "PCA()"
      ]
     },
     "execution_count": 28,
     "metadata": {},
     "output_type": "execute_result"
    }
   ],
   "source": [
    "pca.fit(scaled_data)"
   ]
  },
  {
   "cell_type": "code",
   "execution_count": 29,
   "metadata": {},
   "outputs": [],
   "source": [
    "pca_data = pca.transform(scaled_data)"
   ]
  },
  {
   "cell_type": "code",
   "execution_count": 37,
   "metadata": {},
   "outputs": [
    {
     "data": {
      "text/plain": [
       "array([9.34822282e-01, 1.63603697e-02, 1.46216644e-02, 1.13982635e-02,\n",
       "       7.26666321e-03, 6.21766747e-03, 3.22228617e-03, 3.13720507e-03,\n",
       "       2.95359814e-03, 2.62019793e-32])"
      ]
     },
     "execution_count": 37,
     "metadata": {},
     "output_type": "execute_result"
    }
   ],
   "source": [
    "pca.explained_variance_ratio_"
   ]
  },
  {
   "cell_type": "code",
   "execution_count": 33,
   "metadata": {},
   "outputs": [],
   "source": [
    "per_var = np.round(pca.explained_variance_ratio_ * 100, decimals=1)"
   ]
  },
  {
   "cell_type": "code",
   "execution_count": 45,
   "metadata": {},
   "outputs": [
    {
     "data": {
      "text/plain": [
       "array([93.5,  1.6,  1.5,  1.1,  0.7,  0.6,  0.3,  0.3,  0.3,  0. ])"
      ]
     },
     "execution_count": 45,
     "metadata": {},
     "output_type": "execute_result"
    }
   ],
   "source": [
    "per_var"
   ]
  },
  {
   "cell_type": "code",
   "execution_count": 34,
   "metadata": {},
   "outputs": [],
   "source": [
    "labels = ['PC' + str(i) for i in range(1, len(per_var) + 1)]"
   ]
  },
  {
   "cell_type": "code",
   "execution_count": 36,
   "metadata": {},
   "outputs": [
    {
     "data": {
      "text/plain": [
       "Text(0.5, 1.0, 'Scree plot')"
      ]
     },
     "execution_count": 36,
     "metadata": {},
     "output_type": "execute_result"
    },
    {
     "data": {
      "image/png": "[encoded data removed]",
      "text/plain": [
       "<Figure size 432x288 with 1 Axes>"
      ]
     },
     "metadata": {
      "needs_background": "light"
     },
     "output_type": "display_data"
    }
   ],
   "source": [
    "plt.bar(x = range(1,len(per_var)+1),height = per_var,tick_label=labels)\n",
    "plt.xlabel('Principal component')\n",
    "plt.ylabel('Persentage of Explained variance')\n",
    "plt.title('Scree plot')"
   ]
  },
  {
   "cell_type": "markdown",
   "metadata": {},
   "source": [
    "#### Almost all the variation is in PC1, so a 2-D graph of PC1 and PC2 should do a good job representing the original data."
   ]
  },
  {
   "cell_type": "code",
   "execution_count": 40,
   "metadata": {},
   "outputs": [],
   "source": [
    "pca_df = pd.DataFrame(pca_data, index =  [*wt,*ko], columns = labels)"
   ]
  },
  {
   "cell_type": "code",
   "execution_count": 41,
   "metadata": {},
   "outputs": [
    {
     "data": {
      "text/html": [
       "<div>\n",
       "<style scoped>\n",
       "    .dataframe tbody tr th:only-of-type {\n",
       "        vertical-align: middle;\n",
       "    }\n",
       "\n",
       "    .dataframe tbody tr th {\n",
       "        vertical-align: top;\n",
       "    }\n",
       "\n",
       "    .dataframe thead th {\n",
       "        text-align: right;\n",
       "    }\n",
       "</style>\n",
       "<table border=\"1\" class=\"dataframe\">\n",
       "  <thead>\n",
       "    <tr style=\"text-align: right;\">\n",
       "      <th></th>\n",
       "      <th>PC1</th>\n",
       "      <th>PC2</th>\n",
       "      <th>PC3</th>\n",
       "      <th>PC4</th>\n",
       "      <th>PC5</th>\n",
       "      <th>PC6</th>\n",
       "      <th>PC7</th>\n",
       "      <th>PC8</th>\n",
       "      <th>PC9</th>\n",
       "      <th>PC10</th>\n",
       "    </tr>\n",
       "  </thead>\n",
       "  <tbody>\n",
       "    <tr>\n",
       "      <th>wt1</th>\n",
       "      <td>-9.641073</td>\n",
       "      <td>-0.420904</td>\n",
       "      <td>-0.394358</td>\n",
       "      <td>2.439546</td>\n",
       "      <td>0.111946</td>\n",
       "      <td>0.721064</td>\n",
       "      <td>0.186709</td>\n",
       "      <td>0.390313</td>\n",
       "      <td>-0.575791</td>\n",
       "      <td>1.665335e-16</td>\n",
       "    </tr>\n",
       "    <tr>\n",
       "      <th>wt2</th>\n",
       "      <td>-9.654573</td>\n",
       "      <td>-0.227000</td>\n",
       "      <td>-1.561308</td>\n",
       "      <td>0.101846</td>\n",
       "      <td>-0.116798</td>\n",
       "      <td>-0.403873</td>\n",
       "      <td>-0.575312</td>\n",
       "      <td>0.328908</td>\n",
       "      <td>1.170926</td>\n",
       "      <td>-4.274359e-15</td>\n",
       "    </tr>\n",
       "    <tr>\n",
       "      <th>wt3</th>\n",
       "      <td>-9.767710</td>\n",
       "      <td>0.122151</td>\n",
       "      <td>0.369629</td>\n",
       "      <td>-0.517687</td>\n",
       "      <td>-1.210168</td>\n",
       "      <td>-0.834854</td>\n",
       "      <td>1.184212</td>\n",
       "      <td>-0.218825</td>\n",
       "      <td>0.014138</td>\n",
       "      <td>1.498801e-15</td>\n",
       "    </tr>\n",
       "    <tr>\n",
       "      <th>wt4</th>\n",
       "      <td>-9.958502</td>\n",
       "      <td>2.363164</td>\n",
       "      <td>-0.105758</td>\n",
       "      <td>-1.212012</td>\n",
       "      <td>1.292135</td>\n",
       "      <td>0.650160</td>\n",
       "      <td>0.045242</td>\n",
       "      <td>-0.182892</td>\n",
       "      <td>-0.202478</td>\n",
       "      <td>3.219647e-15</td>\n",
       "    </tr>\n",
       "    <tr>\n",
       "      <th>wt5</th>\n",
       "      <td>-9.309288</td>\n",
       "      <td>-1.951421</td>\n",
       "      <td>1.694922</td>\n",
       "      <td>-0.843982</td>\n",
       "      <td>-0.085006</td>\n",
       "      <td>-0.127543</td>\n",
       "      <td>-0.852722</td>\n",
       "      <td>-0.289974</td>\n",
       "      <td>-0.419206</td>\n",
       "      <td>6.106227e-16</td>\n",
       "    </tr>\n",
       "  </tbody>\n",
       "</table>\n",
       "</div>"
      ],
      "text/plain": [
       "          PC1       PC2       PC3       PC4       PC5       PC6       PC7  \\\n",
       "wt1 -9.641073 -0.420904 -0.394358  2.439546  0.111946  0.721064  0.186709   \n",
       "wt2 -9.654573 -0.227000 -1.561308  0.101846 -0.116798 -0.403873 -0.575312   \n",
       "wt3 -9.767710  0.122151  0.369629 -0.517687 -1.210168 -0.834854  1.184212   \n",
       "wt4 -9.958502  2.363164 -0.105758 -1.212012  1.292135  0.650160  0.045242   \n",
       "wt5 -9.309288 -1.951421  1.694922 -0.843982 -0.085006 -0.127543 -0.852722   \n",
       "\n",
       "          PC8       PC9          PC10  \n",
       "wt1  0.390313 -0.575791  1.665335e-16  \n",
       "wt2  0.328908  1.170926 -4.274359e-15  \n",
       "wt3 -0.218825  0.014138  1.498801e-15  \n",
       "wt4 -0.182892 -0.202478  3.219647e-15  \n",
       "wt5 -0.289974 -0.419206  6.106227e-16  "
      ]
     },
     "execution_count": 41,
     "metadata": {},
     "output_type": "execute_result"
    }
   ],
   "source": [
    "pca_df.head()"
   ]
  },
  {
   "cell_type": "code",
   "execution_count": 48,
   "metadata": {},
   "outputs": [
    {
     "data": {
      "text/plain": [
       "(10, 10)"
      ]
     },
     "execution_count": 48,
     "metadata": {},
     "output_type": "execute_result"
    }
   ],
   "source": [
    "pca_df.shape"
   ]
  },
  {
   "cell_type": "code",
   "execution_count": 47,
   "metadata": {},
   "outputs": [
    {
     "data": {
      "image/png": "[encoded data removed]",
      "text/plain": [
       "<Figure size 432x288 with 1 Axes>"
      ]
     },
     "metadata": {
      "needs_background": "light"
     },
     "output_type": "display_data"
    }
   ],
   "source": [
    "plt.scatter(pca_df.PC1,pca_df.PC2)\n",
    "plt.xlabel('PC1 - {0}%'.format(per_var[0]))\n",
    "plt.ylabel('PC1 - {0}%'.format(per_var[1]))\n",
    "for sample in pca_df.index:\n",
    "    plt.annotate(sample, (pca_df.PC1.loc[sample],pca_df.PC2.loc[sample]))\n",
    "plt.show()"
   ]
  },
  {
   "cell_type": "code",
   "execution_count": null,
   "metadata": {},
   "outputs": [],
   "source": [
    "\n"
   ]
  },
  {
   "cell_type": "code",
   "execution_count": null,
   "metadata": {},
   "outputs": [],
   "source": []
  }
 ],
 "metadata": {
  "kernelspec": {
   "display_name": "Python 3",
   "language": "python",
   "name": "python3"
  },
  "language_info": {
   "codemirror_mode": {
    "name": "ipython",
    "version": 3
   },
   "file_extension": ".py",
   "mimetype": "text/x-python",
   "name": "python",
   "nbconvert_exporter": "python",
   "pygments_lexer": "ipython3",
   "version": "3.8.5"
  }
 },
 "nbformat": 4,
 "nbformat_minor": 4
}
